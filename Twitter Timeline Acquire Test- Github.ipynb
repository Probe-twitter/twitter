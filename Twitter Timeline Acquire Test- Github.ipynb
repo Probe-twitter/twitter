{
 "cells": [
  {
   "cell_type": "code",
   "execution_count": 9,
   "metadata": {},
   "outputs": [],
   "source": [
    "# -*- coding:utf-8 -*-\n",
    "import json\n",
    "import configparser\n",
    "config = configparser.ConfigParser()\n",
    "config.read('twitterconfig.ini')\n",
    "from requests_oauthlib import OAuth1Session"
   ]
  },
  {
   "cell_type": "code",
   "execution_count": 12,
   "metadata": {},
   "outputs": [
    {
     "name": "stdout",
     "output_type": "stream",
     "text": [
      "name      : kasupikaiyogurt\n",
      "text      : なんてこと。\n",
      "\n",
      "小４遺体、自宅そばで発見…別の場所で殺害か : 国内 : ニュース : 読売新聞オンライン https://t.co/6T8QyWWQdg\n",
      "created_at: Wed Sep 18 04:22:54 +0000 2019\n",
      "--------------------------------------------------------\n",
      "name      : kasupikaiyogurt\n",
      "text      : RT @realDonaldTrump: Leaving South Korea after a wonderful meeting with Chairman Kim Jong Un. Stood on the soil of North Korea, an importan…\n",
      "created_at: Mon Jul 01 02:02:41 +0000 2019\n",
      "--------------------------------------------------------\n",
      "name      : kasupikaiyogurt\n",
      "text      : 子供に集団行動や従順さを叩き込んで、教師にとって扱いやすい集団にするのにいい機会だから、という感じ？\n",
      "ただ体を動かすことを楽しむだけでいいよ。練習なんていらない。\n",
      "\n",
      "運動会はなんのため？だれのため？(妹尾昌俊) - 個人 - Ya… https://t.co/zi3YjpI3s8\n",
      "created_at: Fri May 31 08:53:13 +0000 2019\n",
      "--------------------------------------------------------\n"
     ]
    }
   ],
   "source": [
    "#タイムライン取得できた\n",
    "\n",
    "AK = config['twitterconfig']['API_key']\n",
    "AS = config['twitterconfig']['API_secret_key']\n",
    "AT = config['twitterconfig']['Access_token']\n",
    "ATS = config['twitterconfig']['Access_token_secret']\n",
    "\n",
    "twitter = OAuth1Session(AK, AS, AT, ATS) #Twitter認証\n",
    "url = \"https://api.twitter.com/1.1/statuses/user_timeline.json\" #エンドポイント\n",
    "\n",
    "params ={'count' : 3} #タイムライン取得数\n",
    "res = twitter.get(url, params = params)\n",
    "if res.status_code == 200: #OKの場合\n",
    "    tweets = json.loads(res.text) #タイムラインリスト取得\n",
    "    for tweet in tweets: #タイムラインリストをループ処理\n",
    "        print('name      : ' + tweet['user']['name'])\n",
    "        print('text      : ' + tweet['text'])\n",
    "        print('created_at: ' + tweet['created_at'])\n",
    "        print('--------------------------------------------------------')\n",
    "else: #NGの場合\n",
    "    print(\"Failed: %d\" % res.status_code)"
   ]
  },
  {
   "cell_type": "code",
   "execution_count": null,
   "metadata": {},
   "outputs": [],
   "source": []
  }
 ],
 "metadata": {
  "kernelspec": {
   "display_name": "Python 3",
   "language": "python",
   "name": "python3"
  },
  "language_info": {
   "codemirror_mode": {
    "name": "ipython",
    "version": 3
   },
   "file_extension": ".py",
   "mimetype": "text/x-python",
   "name": "python",
   "nbconvert_exporter": "python",
   "pygments_lexer": "ipython3",
   "version": "3.7.4"
  }
 },
 "nbformat": 4,
 "nbformat_minor": 2
}
