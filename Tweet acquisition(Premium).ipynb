{
 "cells": [
  {
   "cell_type": "code",
   "execution_count": 83,
   "metadata": {},
   "outputs": [],
   "source": [
    "import requests\n",
    "from searchtweets import ResultStream, gen_rule_payload, load_credentials"
   ]
  },
  {
   "cell_type": "code",
   "execution_count": 84,
   "metadata": {},
   "outputs": [
    {
     "name": "stderr",
     "output_type": "stream",
     "text": [
      "Grabbing bearer token from OAUTH\n"
     ]
    }
   ],
   "source": [
    "premium_search_args = load_credentials(\"~/.twitter_keys.yaml\",\n",
    "                                       yaml_key=\"search_tweets_fullarchive_dev\",\n",
    "                                       env_overwrite=False)"
   ]
  },
  {
   "cell_type": "code",
   "execution_count": 85,
   "metadata": {},
   "outputs": [
    {
     "name": "stdout",
     "output_type": "stream",
     "text": [
      "{\"query\": \"beyonce\", \"maxResults\": 100}\n"
     ]
    }
   ],
   "source": [
    "rule = gen_rule_payload(\"beyonce\", results_per_call=100) # testing with a sandbox account\n",
    "print(rule)"
   ]
  },
  {
   "cell_type": "code",
   "execution_count": 86,
   "metadata": {},
   "outputs": [],
   "source": [
    "from searchtweets import collect_results"
   ]
  },
  {
   "cell_type": "code",
   "execution_count": 87,
   "metadata": {},
   "outputs": [],
   "source": [
    "tweets = collect_results(rule,\n",
    "                         max_results=100,\n",
    "                         result_stream_args=premium_search_args)"
   ]
  },
  {
   "cell_type": "code",
   "execution_count": 88,
   "metadata": {},
   "outputs": [
    {
     "name": "stdout",
     "output_type": "stream",
     "text": [
      "@lupita27ja @vuvudoingthings @fairybunhun @Mofonguitos Beyoncé’s album was more critically acclaimed than Beck’s album. Beck’s album was impressive, but let’s not act like it was something special. Not a SINGLE massive pop artist did what Beyoncé did in 2013. It was an EVENT, every news blog was talking about it. She was robbed.\n",
      "\n",
      "Since Burna Boy called himself an AFRICAN GIANT 🦍\n",
      "\n",
      "He’s won an EMA, BET\n",
      "\n",
      "Performed at Coachella, sold out his African Giant tour, become the only artist with his own song on Beyoncé’s album\n",
      "\n",
      "Become the highest charting African album in UK history\n",
      "\n",
      "Now he has a Grammy Nomination\n",
      "\n",
      "gonna tell my kinds this was Mi Gente (remix) ft. Beyoncé  https://t.co/lbT02DTRaQ\n",
      "\n",
      "Imma tell my kids this was Beyoncé https://t.co/EXwwFB94WA\n",
      "\n",
      "Biggest #Billboard200 albums of the decade by black women: (via Billboard) \n",
      "#1. #ANTI\n",
      "#2. Invasion Of Privacy\n",
      "#3. Beyoncé\n",
      "#4. Lemonade\n",
      "#5. Pink Friday\n",
      "#6. LOUD\n",
      "#7. Unapologetic \n",
      "#8. Cuz I Love You\n",
      "#9. CTRL\n",
      "#10. 4\n",
      "\n",
      "https://t.co/47YC5H5kyS https://t.co/KJR5EGLTf0\n",
      "\n",
      "Mdrrrr le son de Beyoncé est lourd https://t.co/VqbRS17yy7\n",
      "\n",
      "Since Burna Boy called himself an AFRICAN GIANT 🦍\n",
      "He’s won an EMA, BET\n",
      "\n",
      "Performed at Coachella, become the only artist with his own song on Beyoncé’s album\n",
      "\n",
      "Now he has a Grammy Nomination. You’re what you call yourself. That is why we call ourselves your friend\n",
      "\n",
      "Gonna tell my kids this was Beyoncé and Jay Z https://t.co/oCJlh4rURP\n",
      "\n",
      "I'm telling my kids that this is beyoncé https://t.co/CJg7qE41P2\n",
      "\n",
      "Me in Beyoncé house pretending to be a lamp https://t.co/wlvLGBatQs\n",
      "\n"
     ]
    }
   ],
   "source": [
    "[print(tweet.all_text, end='\\n\\n') for tweet in tweets[0:10]];"
   ]
  },
  {
   "cell_type": "code",
   "execution_count": null,
   "metadata": {},
   "outputs": [],
   "source": []
  }
 ],
 "metadata": {
  "kernelspec": {
   "display_name": "Python 3",
   "language": "python",
   "name": "python3"
  },
  "language_info": {
   "codemirror_mode": {
    "name": "ipython",
    "version": 3
   },
   "file_extension": ".py",
   "mimetype": "text/x-python",
   "name": "python",
   "nbconvert_exporter": "python",
   "pygments_lexer": "ipython3",
   "version": "3.7.4"
  }
 },
 "nbformat": 4,
 "nbformat_minor": 2
}
