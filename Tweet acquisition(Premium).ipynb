{
 "cells": [
  {
   "cell_type": "code",
   "execution_count": 95,
   "metadata": {},
   "outputs": [],
   "source": [
    "from searchtweets import ResultStream, gen_rule_payload, load_credentials"
   ]
  },
  {
   "cell_type": "code",
   "execution_count": 96,
   "metadata": {},
   "outputs": [
    {
     "name": "stderr",
     "output_type": "stream",
     "text": [
      "Grabbing bearer token from OAUTH\n"
     ]
    }
   ],
   "source": [
    "premium_search_args = load_credentials(\"~/.twitter_keys.yaml\",\n",
    "                                       yaml_key=\"search_tweets_fullarchive_dev\",\n",
    "                                       env_overwrite=False)"
   ]
  },
  {
   "cell_type": "code",
   "execution_count": 97,
   "metadata": {},
   "outputs": [
    {
     "name": "stdout",
     "output_type": "stream",
     "text": [
      "{\"query\": \"beyonce\", \"maxResults\": 100}\n"
     ]
    }
   ],
   "source": [
    "rule = gen_rule_payload(\"beyonce\", results_per_call=100) # testing with a sandbox account\n",
    "print(rule)"
   ]
  },
  {
   "cell_type": "code",
   "execution_count": 98,
   "metadata": {},
   "outputs": [],
   "source": [
    "from searchtweets import collect_results"
   ]
  },
  {
   "cell_type": "code",
   "execution_count": 99,
   "metadata": {},
   "outputs": [],
   "source": [
    "tweets = collect_results(rule,\n",
    "                         max_results=100,\n",
    "                         result_stream_args=premium_search_args)"
   ]
  },
  {
   "cell_type": "code",
   "execution_count": 100,
   "metadata": {},
   "outputs": [
    {
     "name": "stdout",
     "output_type": "stream",
     "text": [
      "For the first time in #GRAMMYs history, all nominees for Best Pop Solo Performance are women. \n",
      "\n",
      "• Beyoncé \n",
      "• Billie Eilish\n",
      "• Ariana Grande\n",
      "• Lizzo\n",
      "• Taylor Swift https://t.co/VA3SOBiVnM\n",
      "\n",
      "Here are the most nominated #GRAMMYs artists this year\n",
      "8 Lizzo\n",
      "6 Billie Eilish\n",
      "6 Lil Nas X\n",
      "5 Ariana Grande\n",
      "5 H.E.R.\n",
      "5 Finneas O'Connell\n",
      "4 Beyonce\n",
      "4 Gary Clark Jr. \n",
      "4 J. Cole\n",
      "4 Lucky Daye\n",
      "4 Bob Ludwig\n",
      "4 Tanya Tucker\n",
      "4 Yola\n",
      "4 Thom Yorke\n",
      "https://t.co/V6eMcdQ22Y\n",
      "\n",
      "Alize def the Beyoncé of the group 😂 https://t.co/oGect5WqHa\n",
      "who had the hardest verse ? https://t.co/olV4YGZfy6\n",
      "\n",
      "Gonna tell my kids this was Beyoncé and Jay Z https://t.co/oCJlh4rURP\n",
      "\n",
      "Imma tell my kids this was Beyoncé https://t.co/EXwwFB94WA\n",
      "\n",
      "I’m gonna tell me kids this is Beyoncé’s son  https://t.co/g5GmZzaups\n",
      "\n",
      "O governo americano, a ONU, o GreenPeace e a Globo não querem que você saiba, mas Lady Gaga e Beyoncé performaram “Telephone” juntas SIM. Quebre o silêncio!\n",
      "\n",
      "https://t.co/0eYkkXEBfE\n",
      "\n",
      "beyoncé invented pink  https://t.co/TSY1q1T0QS\n",
      "\n",
      "beyoncé invented pink  https://t.co/TSY1q1T0QS\n",
      "\n",
      "Beyoncé has one of the most POWERFUL voices in HISTORY https://t.co/kAO57fCxjJ\n",
      "\n"
     ]
    }
   ],
   "source": [
    "[print(tweet.all_text, end='\\n\\n') for tweet in tweets[0:10]];"
   ]
  },
  {
   "cell_type": "code",
   "execution_count": null,
   "metadata": {},
   "outputs": [],
   "source": []
  }
 ],
 "metadata": {
  "kernelspec": {
   "display_name": "Python 3",
   "language": "python",
   "name": "python3"
  },
  "language_info": {
   "codemirror_mode": {
    "name": "ipython",
    "version": 3
   },
   "file_extension": ".py",
   "mimetype": "text/x-python",
   "name": "python",
   "nbconvert_exporter": "python",
   "pygments_lexer": "ipython3",
   "version": "3.7.4"
  }
 },
 "nbformat": 4,
 "nbformat_minor": 2
}
