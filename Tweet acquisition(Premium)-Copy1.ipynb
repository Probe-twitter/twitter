{
 "cells": [
  {
   "cell_type": "code",
   "execution_count": 1,
   "metadata": {},
   "outputs": [],
   "source": [
    "from searchtweets import ResultStream, gen_rule_payload, load_credentials"
   ]
  },
  {
   "cell_type": "code",
   "execution_count": 2,
   "metadata": {},
   "outputs": [
    {
     "name": "stderr",
     "output_type": "stream",
     "text": [
      "C:\\Users\\x5250149\\AppData\\anaconda3\\lib\\site-packages\\searchtweets\\credentials.py:34: YAMLLoadWarning: calling yaml.load() without Loader=... is deprecated, as the default Loader is unsafe. Please read https://msg.pyyaml.org/load for full details.\n",
      "  search_creds = yaml.load(f)[yaml_key]\n",
      "Grabbing bearer token from OAUTH\n"
     ]
    }
   ],
   "source": [
    "premium_search_args = load_credentials(\"~/.twitter_keys.yaml\",\n",
    "                                       yaml_key=\"search_tweets_fullarchive_dev\",\n",
    "                                       env_overwrite=False)"
   ]
  },
  {
   "cell_type": "code",
   "execution_count": 3,
   "metadata": {},
   "outputs": [
    {
     "name": "stdout",
     "output_type": "stream",
     "text": [
      "{\"query\": \"beyonce\", \"maxResults\": 100}\n"
     ]
    }
   ],
   "source": [
    "rule = gen_rule_payload(\"beyonce\", results_per_call=100) # testing with a sandbox account\n",
    "print(rule)"
   ]
  },
  {
   "cell_type": "code",
   "execution_count": 4,
   "metadata": {},
   "outputs": [],
   "source": [
    "from searchtweets import collect_results"
   ]
  },
  {
   "cell_type": "code",
   "execution_count": 5,
   "metadata": {},
   "outputs": [],
   "source": [
    "tweets = collect_results(rule,\n",
    "                         max_results=100,\n",
    "                         result_stream_args=premium_search_args)"
   ]
  },
  {
   "cell_type": "code",
   "execution_count": 6,
   "metadata": {},
   "outputs": [
    {
     "name": "stdout",
     "output_type": "stream",
     "text": [
      "Gonna tell my kids this was Beyoncé and Jay Z https://t.co/oCJlh4rURP\n",
      "\n",
      "beyoncé invented pink  https://t.co/TSY1q1T0QS\n",
      "\n",
      "I’m most definitely telling my kids this was Beyoncé https://t.co/cGO2Y9Z9xk\n",
      "\n",
      "These Nigerians are saying the reason the African Unity Concert was canceled because we cannot afford Burna. The funny thing is that South Africa once hosted Beyonce, Jay Z and Ed Shereen all in one stage.\n",
      "\n",
      "Imma tell my kids this was Beyoncé https://t.co/EXwwFB94WA\n",
      "\n",
      "I want whatever weed Beyoncé and Jhené smoke\n",
      "\n",
      "Hov boycotted the Grammys in 1999 because he felt DMX wasn't recognized as he should have been. He didn't attend a ceremony until he began accompanying Beyoncé.\n",
      "\n",
      "An ode to Beyoncé’s Lemonade:              Model: Solace Mensah-Narh.                  Creative director &amp; photographer: me🥰 https://t.co/BNyEzq7RM4\n",
      "\n",
      "*tries to sing and voice cracks* i'm beyonce ; u ;!!!\n",
      "\n",
      "Since Burna Boy called himself an AFRICAN GIANT 🦍\n",
      "He’s won an EMA, BET\n",
      "\n",
      "Performed at Coachella, become the only artist with his own song on Beyoncé’s album\n",
      "\n",
      "Now he has a Grammy Nomination. You’re what you call yourself. That is why we call ourselves your friend\n",
      "\n"
     ]
    }
   ],
   "source": [
    "[print(tweet.all_text, end='\\n\\n') for tweet in tweets[0:10]];"
   ]
  },
  {
   "cell_type": "code",
   "execution_count": 7,
   "metadata": {},
   "outputs": [
    {
     "name": "stdout",
     "output_type": "stream",
     "text": [
      "2019-11-21 07:21:50\n",
      "2019-11-21 07:21:49\n",
      "2019-11-21 07:21:49\n",
      "2019-11-21 07:21:46\n",
      "2019-11-21 07:21:44\n",
      "2019-11-21 07:21:43\n",
      "2019-11-21 07:21:43\n",
      "2019-11-21 07:21:43\n",
      "2019-11-21 07:21:42\n",
      "2019-11-21 07:21:41\n"
     ]
    }
   ],
   "source": [
    "[print(tweet.created_at_datetime) for tweet in tweets[0:10]];"
   ]
  },
  {
   "cell_type": "code",
   "execution_count": 8,
   "metadata": {},
   "outputs": [
    {
     "name": "stdout",
     "output_type": "stream",
     "text": [
      "Twitter for iPhone\n",
      "Twitter for iPhone\n",
      "Twitter for Android\n",
      "Twitter for Android\n",
      "Twitter for iPhone\n",
      "Twitter for iPhone\n",
      "Twitter for Android\n",
      "Twitter Web App\n",
      "twittbot.net\n",
      "Twitter for iPad\n"
     ]
    }
   ],
   "source": [
    "[print(tweet.generator.get(\"name\")) for tweet in tweets[0:10]];"
   ]
  },
  {
   "cell_type": "code",
   "execution_count": null,
   "metadata": {},
   "outputs": [],
   "source": []
  }
 ],
 "metadata": {
  "kernelspec": {
   "display_name": "Python 3",
   "language": "python",
   "name": "python3"
  },
  "language_info": {
   "codemirror_mode": {
    "name": "ipython",
    "version": 3
   },
   "file_extension": ".py",
   "mimetype": "text/x-python",
   "name": "python",
   "nbconvert_exporter": "python",
   "pygments_lexer": "ipython3",
   "version": "3.7.4"
  }
 },
 "nbformat": 4,
 "nbformat_minor": 2
}
